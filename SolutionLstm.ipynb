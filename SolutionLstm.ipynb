{
 "cells": [
  {
   "cell_type": "code",
   "execution_count": 1,
   "metadata": {},
   "outputs": [
    {
     "name": "stderr",
     "output_type": "stream",
     "text": [
      "Using Theano backend.\n",
      "Using cuDNN version 5110 on context None\n",
      "Mapped name None to device cuda: GeForce GTX 1080 (0000:01:00.0)\n"
     ]
    }
   ],
   "source": [
    "import pandas as pd\n",
    "import numpy as np\n",
    "import os\n",
    "\n",
    "from sklearn.feature_extraction.text import CountVectorizer, TfidfVectorizer\n",
    "from nltk.corpus import stopwords\n",
    "\n",
    "from scipy.sparse import hstack, vstack, csr_matrix\n",
    "from scipy import sparse\n",
    "\n",
    "from keras.models import Sequential, Model\n",
    "from keras.layers import Input\n",
    "from keras.layers.merge import Concatenate\n",
    "from keras.layers import Dense, Dropout, merge, concatenate\n",
    "from keras.layers import LSTM, Embedding, GRU\n",
    "from keras.layers import Conv1D, MaxPooling1D, GlobalAveragePooling1D\n",
    "from keras.layers.wrappers import Bidirectional\n",
    "from keras import optimizers\n",
    "\n",
    "from keras.callbacks import ModelCheckpoint, EarlyStopping, TensorBoard\n",
    "from keras.utils import np_utils\n",
    "from keras.preprocessing.text import Tokenizer\n",
    "from keras.preprocessing.sequence import pad_sequences\n",
    "from keras.layers.normalization import BatchNormalization\n",
    "from keras_tqdm import TQDMNotebookCallback, TQDMCallback\n",
    "\n",
    "\n",
    "from sklearn import linear_model\n",
    "from sklearn.naive_bayes import MultinomialNB, GaussianNB\n",
    "from sklearn.linear_model import LogisticRegression, SGDClassifier, PassiveAggressiveClassifier, Perceptron\n",
    "from sklearn.svm import SVC, LinearSVC, NuSVC\n",
    "\n",
    "from sklearn.metrics import mean_squared_error, accuracy_score, log_loss\n",
    "from sklearn.model_selection import train_test_split, cross_val_score\n",
    "from sklearn.pipeline import make_pipeline\n",
    "from sklearn.feature_selection import SelectPercentile, f_classif, mutual_info_classif, chi2, SelectFromModel\n",
    "from sklearn.feature_selection import VarianceThreshold\n",
    "\n",
    "from sklearn import preprocessing\n",
    "from sklearn.decomposition import PCA\n",
    "\n",
    "import gensim\n",
    "from gensim.models import Word2Vec\n",
    "\n",
    "import re\n",
    "import pymorphy2\n",
    "import nltk\n",
    "from nltk.tokenize import word_tokenize\n",
    "from nltk.corpus import stopwords\n",
    "import spacy\n",
    "\n",
    "from multiprocessing import Pool"
   ]
  },
  {
   "cell_type": "code",
   "execution_count": 2,
   "metadata": {
    "collapsed": true
   },
   "outputs": [],
   "source": [
    "import matplotlib\n",
    "from matplotlib import rc\n",
    "import matplotlib.pyplot as plt\n",
    "\n",
    "#font = {'family': 'Verdana', 'weight': 'normal'}\n",
    "#rc('font', **font)\n",
    "matplotlib.style.use('ggplot')\n",
    "\n",
    "%matplotlib inline\n",
    "\n",
    "pd.set_option('display.max_rows', 15)"
   ]
  },
  {
   "cell_type": "markdown",
   "metadata": {},
   "source": [
    "# Загрузка данных"
   ]
  },
  {
   "cell_type": "markdown",
   "metadata": {},
   "source": [
    "### GoogleNews-vectors-negative300"
   ]
  },
  {
   "cell_type": "code",
   "execution_count": 3,
   "metadata": {
    "collapsed": true
   },
   "outputs": [],
   "source": [
    "w2v_path = os.path.join(os.sep, os.path.abspath('/home/data/word2vec/english/GoogleNews-vectors-negative300.bin'))\n",
    "w2v = gensim.models.KeyedVectors.load_word2vec_format(w2v_path, binary=True)\n",
    "w2v.init_sims(replace=True)"
   ]
  },
  {
   "cell_type": "markdown",
   "metadata": {},
   "source": [
    "### Tokenized Data"
   ]
  },
  {
   "cell_type": "code",
   "execution_count": 4,
   "metadata": {
    "collapsed": true
   },
   "outputs": [],
   "source": [
    "def load_tokenized_series(filename):\n",
    "    try:\n",
    "        series = pd.read_csv(filename, index_col='id', header=0)\n",
    "    except:\n",
    "        series = pd.read_csv(filename, index_col='test_id', header=0)\n",
    "    series = series['question'].fillna('')\n",
    "    return series"
   ]
  },
  {
   "cell_type": "code",
   "execution_count": 5,
   "metadata": {
    "collapsed": true
   },
   "outputs": [],
   "source": [
    "# load tokenized questions\n",
    "train_q1_tokenized_objects = load_tokenized_series('train_q1_tokenized.csv')\n",
    "train_q2_tokenized_objects = load_tokenized_series('train_q2_tokenized.csv')\n",
    "test_q1_tokenized_objects = load_tokenized_series('test_q1_tokenized.csv')\n",
    "test_q2_tokenized_objects = load_tokenized_series('test_q2_tokenized.csv')"
   ]
  },
  {
   "cell_type": "code",
   "execution_count": 6,
   "metadata": {
    "collapsed": true
   },
   "outputs": [],
   "source": [
    "train_set = pd.read_csv('/home/data/share/quora/train.csv', index_col=0)\n",
    "Y_train = train_set['is_duplicate']\n",
    "del train_set"
   ]
  },
  {
   "cell_type": "markdown",
   "metadata": {},
   "source": [
    "#### stopwords removing"
   ]
  },
  {
   "cell_type": "code",
   "execution_count": 7,
   "metadata": {},
   "outputs": [],
   "source": [
    "include_stopwords = False\n",
    "\n",
    "stopwords_set = set([stopword for stopword in stopwords.words(\"english\") if stopword not in w2v.vocab])\n",
    "\n",
    "def remove_stop_words(text):\n",
    "    return ' '.join([word for word in text.split() if word not in stopwords_set])\n",
    "\n",
    "if not include_stopwords:\n",
    "    train_q1_tokenized_objects = train_q1_tokenized_objects.apply(remove_stop_words)\n",
    "    train_q2_tokenized_objects = train_q2_tokenized_objects.apply(remove_stop_words)\n",
    "    test_q1_tokenized_objects = test_q1_tokenized_objects.apply(remove_stop_words)\n",
    "    test_q2_tokenized_objects = test_q2_tokenized_objects.apply(remove_stop_words)"
   ]
  },
  {
   "cell_type": "code",
   "execution_count": 8,
   "metadata": {},
   "outputs": [
    {
     "data": {
      "text/plain": [
       "{'a', 'and', 'mightn', 'mustn', 'of', 'to'}"
      ]
     },
     "execution_count": 8,
     "metadata": {},
     "output_type": "execute_result"
    }
   ],
   "source": [
    "stopwords_set"
   ]
  },
  {
   "cell_type": "markdown",
   "metadata": {},
   "source": [
    "# Множества(train, test, validation)"
   ]
  },
  {
   "cell_type": "code",
   "execution_count": 9,
   "metadata": {
    "collapsed": true
   },
   "outputs": [],
   "source": [
    "train_index = train_q1_tokenized_objects.index\n",
    "train_pairs = pd.DataFrame(index=train_index)\n",
    "train_pairs['question1'] = train_q1_tokenized_objects\n",
    "train_pairs['question2'] = train_q2_tokenized_objects\n",
    "train_pairs = train_pairs.values\n",
    "\n",
    "test_index = test_q1_tokenized_objects.index\n",
    "test_pairs = pd.DataFrame(index=test_index)\n",
    "test_pairs['question1'] = test_q1_tokenized_objects\n",
    "test_pairs['question2'] = test_q2_tokenized_objects\n",
    "test_pairs = test_pairs.values"
   ]
  },
  {
   "cell_type": "code",
   "execution_count": 10,
   "metadata": {
    "collapsed": true
   },
   "outputs": [],
   "source": [
    "train_tokens, validation_tokens, y_train, y_validation = train_test_split(train_pairs, Y_train.values,\n",
    "                                                                          test_size=0.1, random_state=42)\n",
    "test_tokens = test_pairs"
   ]
  },
  {
   "cell_type": "markdown",
   "metadata": {},
   "source": [
    "# Features"
   ]
  },
  {
   "cell_type": "markdown",
   "metadata": {},
   "source": [
    "## word2vec squence"
   ]
  },
  {
   "cell_type": "code",
   "execution_count": 12,
   "metadata": {
    "collapsed": true
   },
   "outputs": [],
   "source": [
    "def tokens_to_embeddings(text):\n",
    "    sequence = [w2v.syn0norm[w2v.vocab[token].index] for token in space_tokenizer(text) if word in w2v.vocab]\n",
    "\n",
    "    if not sequence:\n",
    "        return np.zeros(300)\n",
    "\n",
    "    return np.concatenate(sequence)"
   ]
  },
  {
   "cell_type": "code",
   "execution_count": 13,
   "metadata": {
    "collapsed": true
   },
   "outputs": [],
   "source": [
    "def space_tokenizer(s):\n",
    "    return s.split()"
   ]
  },
  {
   "cell_type": "code",
   "execution_count": 14,
   "metadata": {
    "collapsed": true
   },
   "outputs": [],
   "source": [
    "all_texts = np.concatenate([train_pairs[:, 0], train_pairs[:, 1], test_pairs[:, 0], test_pairs[:, 1]])\n",
    "tokenizer = Tokenizer(filters='', lower=False, split=' ')\n",
    "tokenizer.fit_on_texts(all_texts)"
   ]
  },
  {
   "cell_type": "code",
   "execution_count": 15,
   "metadata": {},
   "outputs": [
    {
     "name": "stdout",
     "output_type": "stream",
     "text": [
      "Found 128778 unique tokens\n"
     ]
    }
   ],
   "source": [
    "vocab = tokenizer.word_index\n",
    "vocab_len = len(vocab)\n",
    "print('Found {} unique tokens'.format(vocab_len))"
   ]
  },
  {
   "cell_type": "code",
   "execution_count": 16,
   "metadata": {
    "collapsed": true
   },
   "outputs": [],
   "source": [
    "train_sequences = train_tokens.copy()\n",
    "train_sequences[:, 0] = tokenizer.texts_to_sequences(train_sequences[:, 0])\n",
    "train_sequences[:, 1] = tokenizer.texts_to_sequences(train_sequences[:, 1])\n",
    "\n",
    "validation_sequences = validation_tokens.copy()\n",
    "validation_sequences[:, 0] = tokenizer.texts_to_sequences(validation_sequences[:, 0])\n",
    "validation_sequences[:, 1] = tokenizer.texts_to_sequences(validation_sequences[:, 1])\n",
    "\n",
    "test_sequences = test_tokens.copy()\n",
    "test_sequences[:, 0] = tokenizer.texts_to_sequences(test_sequences[:, 0])\n",
    "test_sequences[:, 1] = tokenizer.texts_to_sequences(test_sequences[:, 1])"
   ]
  },
  {
   "cell_type": "code",
   "execution_count": 17,
   "metadata": {},
   "outputs": [
    {
     "name": "stdout",
     "output_type": "stream",
     "text": [
      "Null word embeddings: 69934\n"
     ]
    }
   ],
   "source": [
    "embedding_dim = 300\n",
    "embedding_weights = np.zeros((vocab_len+1, embedding_dim))\n",
    "for word, index in vocab.items():\n",
    "    if word in w2v.vocab:\n",
    "        embedding_weights[index, :] = w2v.syn0norm[w2v.vocab[word].index] \n",
    "        \n",
    "print('Null word embeddings: %d' % np.sum(np.sum(embedding_weights, axis=1) == 0))"
   ]
  },
  {
   "cell_type": "code",
   "execution_count": 18,
   "metadata": {
    "collapsed": true
   },
   "outputs": [],
   "source": [
    "maxlen = 25\n",
    "\n",
    "train_sequences_q1 = pad_sequences(train_sequences[:, 0], maxlen=maxlen)\n",
    "train_sequences_q2 = pad_sequences(train_sequences[:, 1], maxlen=maxlen)\n",
    "train_sequences = np.array([pair for pair in list(zip(train_sequences_q1, train_sequences_q2))])\n",
    "del train_sequences_q1, train_sequences_q2\n",
    "\n",
    "validation_sequences_q1 = pad_sequences(validation_sequences[:, 0], maxlen=maxlen)\n",
    "validation_sequences_q2 = pad_sequences(validation_sequences[:, 1], maxlen=maxlen)\n",
    "validation_sequences = np.array([pair for pair in list(zip(validation_sequences_q1, validation_sequences_q2))])\n",
    "del validation_sequences_q1, validation_sequences_q2\n",
    "\n",
    "test_sequences_q1 = pad_sequences(test_sequences[:, 0], maxlen=maxlen)\n",
    "test_sequences_q2 = pad_sequences(test_sequences[:, 1], maxlen=maxlen)\n",
    "test_sequences = np.array([pair for pair in list(zip(test_sequences_q1, test_sequences_q2))])\n",
    "del test_sequences_q1, test_sequences_q2"
   ]
  },
  {
   "cell_type": "code",
   "execution_count": 19,
   "metadata": {},
   "outputs": [
    {
     "data": {
      "text/plain": [
       "((363861, 2, 25), (40429, 2, 25), (2345796, 2, 25))"
      ]
     },
     "execution_count": 19,
     "metadata": {},
     "output_type": "execute_result"
    }
   ],
   "source": [
    "train_sequences.shape, validation_sequences.shape, test_sequences.shape"
   ]
  },
  {
   "cell_type": "code",
   "execution_count": 20,
   "metadata": {
    "collapsed": true
   },
   "outputs": [],
   "source": [
    "x_train = train_sequences\n",
    "x_validation = validation_sequences\n",
    "x_test = test_sequences"
   ]
  },
  {
   "cell_type": "markdown",
   "metadata": {},
   "source": [
    "# Models"
   ]
  },
  {
   "cell_type": "markdown",
   "metadata": {},
   "source": [
    "# NN"
   ]
  },
  {
   "cell_type": "code",
   "execution_count": 21,
   "metadata": {
    "collapsed": true
   },
   "outputs": [],
   "source": [
    "max_features, embedding_dim, maxlen = vocab_len+1, 300, maxlen"
   ]
  },
  {
   "cell_type": "markdown",
   "metadata": {},
   "source": [
    "## With Embedding"
   ]
  },
  {
   "cell_type": "markdown",
   "metadata": {},
   "source": [
    "### batch_generator"
   ]
  },
  {
   "cell_type": "code",
   "execution_count": 22,
   "metadata": {
    "collapsed": true
   },
   "outputs": [],
   "source": [
    "def batch_generator(Q1, Q2, Y, batch_size, shuffle=False):\n",
    "    n = Y.shape[0]\n",
    "    number_of_batches, counter, shuffle_index = n//batch_size, 0, np.arange(n)\n",
    "    \n",
    "    if shuffle:\n",
    "        np.random.shuffle(shuffle_index)\n",
    "\n",
    "    Q1, Q2, Y =  Q1[shuffle_index], Q2[shuffle_index], Y[shuffle_index]\n",
    "    \n",
    "    while True:\n",
    "        for counter in range(number_of_batches+1):\n",
    "            index_batch = shuffle_index[batch_size*counter:batch_size*(counter+1)]\n",
    "            X, Y_batch = [Q1[index_batch], Q2[index_batch]], Y[index_batch]\n",
    "            yield X, Y_batch\n",
    "            \n",
    "        if shuffle:\n",
    "            np.random.shuffle(shuffle_index)"
   ]
  },
  {
   "cell_type": "markdown",
   "metadata": {},
   "source": [
    "### model architecture"
   ]
  },
  {
   "cell_type": "code",
   "execution_count": 23,
   "metadata": {
    "collapsed": true
   },
   "outputs": [],
   "source": [
    "def get_representation(input_shape):\n",
    "    representation = Sequential()\n",
    "    representation.add(Embedding(max_features, embedding_dim, input_length=input_shape, \n",
    "                                 weights=[embedding_weights], trainable=False))\n",
    "    representation.add(GRU(embedding_dim, dropout=0.25, recurrent_dropout=0.25))\n",
    "    \n",
    "    return representation\n",
    "\n",
    "def build_model(question_shape):\n",
    "    first_question = Input(shape=(question_shape, ))\n",
    "    second_question = Input(shape=(question_shape, ))\n",
    "    \n",
    "    representation = get_representation(question_shape)\n",
    "    \n",
    "    first_representation = representation(first_question)\n",
    "    second_representation = representation(second_question)\n",
    "    \n",
    "    merged_vectors = concatenate([first_representation, second_representation])\n",
    "    features = Dropout(0.3)(merged_vectors)\n",
    "    features = BatchNormalization()(features)\n",
    "\n",
    "    features = Dense(100, activation='relu')(features)\n",
    "    features = Dropout(0.3)(features)\n",
    "    features = BatchNormalization()(features)\n",
    "    \n",
    "    output_proba = Dense(1, activation='sigmoid', kernel_initializer='he_normal')(features)\n",
    "    \n",
    "    model = Model(\n",
    "        inputs=[first_question, second_question],\n",
    "        outputs=output_proba\n",
    "    )\n",
    "    \n",
    "    return model\n",
    "    \n",
    "def get_nn_model(*, path_to_hdf5=False, input_shape=None):\n",
    "    model = build_model(input_shape) \n",
    "    model.compile(loss='binary_crossentropy', optimizer='adam', metrics=['accuracy'])\n",
    "    \n",
    "    # load pretrained weights\n",
    "    if path_to_hdf5:\n",
    "        model.load_weights(path_to_hdf5)\n",
    "\n",
    "    print(model.summary())\n",
    "    return model\n",
    "\n",
    "filepath=\"weights_{epoch:02d}_{val_loss:.3f}.hdf5\"\n",
    "checkpoint = ModelCheckpoint(filepath, monitor='val_loss', verbose=1, save_best_only=True, mode='min')\n",
    "early_stopping = EarlyStopping(monitor='val_loss', patience=10, mode='min')\n",
    "callbacks_list = [checkpoint, early_stopping, TQDMNotebookCallback()]"
   ]
  },
  {
   "cell_type": "markdown",
   "metadata": {},
   "source": [
    "### training"
   ]
  },
  {
   "cell_type": "code",
   "execution_count": 24,
   "metadata": {
    "scrolled": true
   },
   "outputs": [
    {
     "name": "stdout",
     "output_type": "stream",
     "text": [
      "____________________________________________________________________________________________________\n",
      "Layer (type)                     Output Shape          Param #     Connected to                     \n",
      "====================================================================================================\n",
      "input_1 (InputLayer)             (None, 25)            0                                            \n",
      "____________________________________________________________________________________________________\n",
      "input_2 (InputLayer)             (None, 25)            0                                            \n",
      "____________________________________________________________________________________________________\n",
      "sequential_1 (Sequential)        (None, 300)           39174600                                     \n",
      "____________________________________________________________________________________________________\n",
      "concatenate_1 (Concatenate)      (None, 600)           0                                            \n",
      "____________________________________________________________________________________________________\n",
      "dropout_1 (Dropout)              (None, 600)           0                                            \n",
      "____________________________________________________________________________________________________\n",
      "batch_normalization_1 (BatchNorm (None, 600)           2400                                         \n",
      "____________________________________________________________________________________________________\n",
      "dense_1 (Dense)                  (None, 100)           60100                                        \n",
      "____________________________________________________________________________________________________\n",
      "dropout_2 (Dropout)              (None, 100)           0                                            \n",
      "____________________________________________________________________________________________________\n",
      "batch_normalization_2 (BatchNorm (None, 100)           400                                          \n",
      "____________________________________________________________________________________________________\n",
      "dense_2 (Dense)                  (None, 1)             101                                          \n",
      "====================================================================================================\n",
      "Total params: 39,237,601\n",
      "Trainable params: 602,501\n",
      "Non-trainable params: 38,635,100\n",
      "____________________________________________________________________________________________________\n",
      "None\n"
     ]
    },
    {
     "name": "stderr",
     "output_type": "stream",
     "text": [
      "The installed widget Javascript is the wrong version.\n",
      "The installed widget Javascript is the wrong version.\n"
     ]
    },
    {
     "name": "stdout",
     "output_type": "stream",
     "text": [
      "Epoch 1/200\n",
      "Epoch 00000: val_loss improved from inf to 0.59114, saving model to weights_00_0.591.hdf5\n",
      "54s - loss: 0.5979 - acc: 0.6831 - val_loss: 0.5911 - val_acc: 0.6661\n",
      "Epoch 2/200\n"
     ]
    },
    {
     "name": "stderr",
     "output_type": "stream",
     "text": [
      "The installed widget Javascript is the wrong version.\n"
     ]
    },
    {
     "name": "stdout",
     "output_type": "stream",
     "text": [
      "Epoch 00001: val_loss improved from 0.59114 to 0.51422, saving model to weights_01_0.514.hdf5\n",
      "54s - loss: 0.5369 - acc: 0.7263 - val_loss: 0.5142 - val_acc: 0.7487\n",
      "Epoch 3/200\n"
     ]
    },
    {
     "name": "stderr",
     "output_type": "stream",
     "text": [
      "The installed widget Javascript is the wrong version.\n"
     ]
    },
    {
     "name": "stdout",
     "output_type": "stream",
     "text": [
      "Epoch 00002: val_loss improved from 0.51422 to 0.49046, saving model to weights_02_0.490.hdf5\n",
      "54s - loss: 0.5150 - acc: 0.7402 - val_loss: 0.4905 - val_acc: 0.7633\n",
      "Epoch 4/200\n"
     ]
    },
    {
     "name": "stderr",
     "output_type": "stream",
     "text": [
      "The installed widget Javascript is the wrong version.\n"
     ]
    },
    {
     "name": "stdout",
     "output_type": "stream",
     "text": [
      "Epoch 00003: val_loss improved from 0.49046 to 0.46891, saving model to weights_03_0.469.hdf5\n",
      "54s - loss: 0.4946 - acc: 0.7539 - val_loss: 0.4689 - val_acc: 0.7768\n",
      "Epoch 5/200\n"
     ]
    },
    {
     "name": "stderr",
     "output_type": "stream",
     "text": [
      "The installed widget Javascript is the wrong version.\n"
     ]
    },
    {
     "name": "stdout",
     "output_type": "stream",
     "text": [
      "Epoch 00004: val_loss improved from 0.46891 to 0.45694, saving model to weights_04_0.457.hdf5\n",
      "54s - loss: 0.4776 - acc: 0.7639 - val_loss: 0.4569 - val_acc: 0.7836\n",
      "Epoch 6/200\n"
     ]
    },
    {
     "name": "stderr",
     "output_type": "stream",
     "text": [
      "The installed widget Javascript is the wrong version.\n"
     ]
    },
    {
     "name": "stdout",
     "output_type": "stream",
     "text": [
      "Epoch 00005: val_loss improved from 0.45694 to 0.44191, saving model to weights_05_0.442.hdf5\n",
      "54s - loss: 0.4654 - acc: 0.7719 - val_loss: 0.4419 - val_acc: 0.7904\n",
      "Epoch 7/200\n"
     ]
    },
    {
     "name": "stderr",
     "output_type": "stream",
     "text": [
      "The installed widget Javascript is the wrong version.\n"
     ]
    },
    {
     "name": "stdout",
     "output_type": "stream",
     "text": [
      "Epoch 00006: val_loss improved from 0.44191 to 0.43238, saving model to weights_06_0.432.hdf5\n",
      "54s - loss: 0.4550 - acc: 0.7775 - val_loss: 0.4324 - val_acc: 0.7949\n",
      "Epoch 8/200\n"
     ]
    },
    {
     "name": "stderr",
     "output_type": "stream",
     "text": [
      "The installed widget Javascript is the wrong version.\n"
     ]
    },
    {
     "name": "stdout",
     "output_type": "stream",
     "text": [
      "Epoch 00007: val_loss improved from 0.43238 to 0.42440, saving model to weights_07_0.424.hdf5\n",
      "54s - loss: 0.4461 - acc: 0.7829 - val_loss: 0.4244 - val_acc: 0.7997\n",
      "Epoch 9/200\n"
     ]
    },
    {
     "name": "stderr",
     "output_type": "stream",
     "text": [
      "The installed widget Javascript is the wrong version.\n"
     ]
    },
    {
     "name": "stdout",
     "output_type": "stream",
     "text": [
      "Epoch 00008: val_loss did not improve\n",
      "54s - loss: 0.4387 - acc: 0.7882 - val_loss: 0.4278 - val_acc: 0.7996\n",
      "Epoch 10/200\n"
     ]
    },
    {
     "name": "stderr",
     "output_type": "stream",
     "text": [
      "The installed widget Javascript is the wrong version.\n"
     ]
    },
    {
     "name": "stdout",
     "output_type": "stream",
     "text": [
      "Epoch 00009: val_loss improved from 0.42440 to 0.41423, saving model to weights_09_0.414.hdf5\n",
      "54s - loss: 0.4314 - acc: 0.7922 - val_loss: 0.4142 - val_acc: 0.8035\n",
      "Epoch 11/200\n"
     ]
    },
    {
     "name": "stderr",
     "output_type": "stream",
     "text": [
      "The installed widget Javascript is the wrong version.\n"
     ]
    },
    {
     "name": "stdout",
     "output_type": "stream",
     "text": [
      "Epoch 00010: val_loss did not improve\n",
      "54s - loss: 0.4250 - acc: 0.7954 - val_loss: 0.4147 - val_acc: 0.8066\n",
      "Epoch 12/200\n"
     ]
    },
    {
     "name": "stderr",
     "output_type": "stream",
     "text": [
      "The installed widget Javascript is the wrong version.\n"
     ]
    },
    {
     "name": "stdout",
     "output_type": "stream",
     "text": [
      "Epoch 00011: val_loss improved from 0.41423 to 0.40208, saving model to weights_11_0.402.hdf5\n",
      "54s - loss: 0.4192 - acc: 0.7991 - val_loss: 0.4021 - val_acc: 0.8117\n",
      "Epoch 13/200\n"
     ]
    },
    {
     "name": "stderr",
     "output_type": "stream",
     "text": [
      "The installed widget Javascript is the wrong version.\n"
     ]
    },
    {
     "name": "stdout",
     "output_type": "stream",
     "text": [
      "Epoch 00012: val_loss improved from 0.40208 to 0.39838, saving model to weights_12_0.398.hdf5\n",
      "54s - loss: 0.4140 - acc: 0.8025 - val_loss: 0.3984 - val_acc: 0.8130\n",
      "Epoch 14/200\n"
     ]
    },
    {
     "name": "stderr",
     "output_type": "stream",
     "text": [
      "The installed widget Javascript is the wrong version.\n"
     ]
    },
    {
     "name": "stdout",
     "output_type": "stream",
     "text": [
      "Epoch 00013: val_loss did not improve\n",
      "54s - loss: 0.4088 - acc: 0.8062 - val_loss: 0.4058 - val_acc: 0.8092\n",
      "Epoch 15/200\n"
     ]
    },
    {
     "name": "stderr",
     "output_type": "stream",
     "text": [
      "The installed widget Javascript is the wrong version.\n"
     ]
    },
    {
     "name": "stdout",
     "output_type": "stream",
     "text": [
      "Epoch 00014: val_loss improved from 0.39838 to 0.39562, saving model to weights_14_0.396.hdf5\n",
      "54s - loss: 0.4037 - acc: 0.8084 - val_loss: 0.3956 - val_acc: 0.8138\n",
      "Epoch 16/200\n"
     ]
    },
    {
     "name": "stderr",
     "output_type": "stream",
     "text": [
      "The installed widget Javascript is the wrong version.\n"
     ]
    },
    {
     "name": "stdout",
     "output_type": "stream",
     "text": [
      "Epoch 00015: val_loss did not improve\n",
      "54s - loss: 0.4001 - acc: 0.8110 - val_loss: 0.3998 - val_acc: 0.8108\n",
      "Epoch 17/200\n"
     ]
    },
    {
     "name": "stderr",
     "output_type": "stream",
     "text": [
      "The installed widget Javascript is the wrong version.\n"
     ]
    },
    {
     "name": "stdout",
     "output_type": "stream",
     "text": [
      "Epoch 00016: val_loss did not improve\n",
      "54s - loss: 0.3956 - acc: 0.8132 - val_loss: 0.3972 - val_acc: 0.8124\n",
      "Epoch 18/200\n"
     ]
    },
    {
     "name": "stderr",
     "output_type": "stream",
     "text": [
      "The installed widget Javascript is the wrong version.\n"
     ]
    },
    {
     "name": "stdout",
     "output_type": "stream",
     "text": [
      "Epoch 00017: val_loss improved from 0.39562 to 0.38868, saving model to weights_17_0.389.hdf5\n",
      "54s - loss: 0.3912 - acc: 0.8159 - val_loss: 0.3887 - val_acc: 0.8176\n",
      "Epoch 19/200\n"
     ]
    },
    {
     "name": "stderr",
     "output_type": "stream",
     "text": [
      "The installed widget Javascript is the wrong version.\n"
     ]
    },
    {
     "name": "stdout",
     "output_type": "stream",
     "text": [
      "Epoch 00018: val_loss improved from 0.38868 to 0.38582, saving model to weights_18_0.386.hdf5\n",
      "54s - loss: 0.3870 - acc: 0.8173 - val_loss: 0.3858 - val_acc: 0.8204\n",
      "Epoch 20/200\n"
     ]
    },
    {
     "name": "stderr",
     "output_type": "stream",
     "text": [
      "The installed widget Javascript is the wrong version.\n"
     ]
    },
    {
     "name": "stdout",
     "output_type": "stream",
     "text": [
      "Epoch 00019: val_loss improved from 0.38582 to 0.38012, saving model to weights_19_0.380.hdf5\n",
      "54s - loss: 0.3829 - acc: 0.8203 - val_loss: 0.3801 - val_acc: 0.8245\n",
      "Epoch 21/200\n"
     ]
    },
    {
     "name": "stderr",
     "output_type": "stream",
     "text": [
      "The installed widget Javascript is the wrong version.\n"
     ]
    },
    {
     "name": "stdout",
     "output_type": "stream",
     "text": [
      "Epoch 00020: val_loss did not improve\n",
      "54s - loss: 0.3796 - acc: 0.8225 - val_loss: 0.3829 - val_acc: 0.8230\n",
      "Epoch 22/200\n"
     ]
    },
    {
     "name": "stderr",
     "output_type": "stream",
     "text": [
      "The installed widget Javascript is the wrong version.\n"
     ]
    },
    {
     "name": "stdout",
     "output_type": "stream",
     "text": [
      "Epoch 00021: val_loss did not improve\n",
      "54s - loss: 0.3768 - acc: 0.8241 - val_loss: 0.3817 - val_acc: 0.8203\n",
      "Epoch 23/200\n"
     ]
    },
    {
     "name": "stderr",
     "output_type": "stream",
     "text": [
      "The installed widget Javascript is the wrong version.\n"
     ]
    },
    {
     "name": "stdout",
     "output_type": "stream",
     "text": [
      "Epoch 00022: val_loss improved from 0.38012 to 0.37839, saving model to weights_22_0.378.hdf5\n",
      "54s - loss: 0.3743 - acc: 0.8254 - val_loss: 0.3784 - val_acc: 0.8245\n",
      "Epoch 24/200\n"
     ]
    },
    {
     "name": "stderr",
     "output_type": "stream",
     "text": [
      "The installed widget Javascript is the wrong version.\n"
     ]
    },
    {
     "name": "stdout",
     "output_type": "stream",
     "text": [
      "Epoch 00023: val_loss improved from 0.37839 to 0.37273, saving model to weights_23_0.373.hdf5\n",
      "54s - loss: 0.3708 - acc: 0.8268 - val_loss: 0.3727 - val_acc: 0.8270\n",
      "Epoch 25/200\n"
     ]
    },
    {
     "name": "stderr",
     "output_type": "stream",
     "text": [
      "The installed widget Javascript is the wrong version.\n"
     ]
    },
    {
     "name": "stdout",
     "output_type": "stream",
     "text": [
      "Epoch 00024: val_loss improved from 0.37273 to 0.36949, saving model to weights_24_0.369.hdf5\n",
      "54s - loss: 0.3680 - acc: 0.8292 - val_loss: 0.3695 - val_acc: 0.8304\n",
      "Epoch 26/200\n"
     ]
    },
    {
     "name": "stderr",
     "output_type": "stream",
     "text": [
      "The installed widget Javascript is the wrong version.\n"
     ]
    },
    {
     "name": "stdout",
     "output_type": "stream",
     "text": [
      "Epoch 00025: val_loss did not improve\n",
      "54s - loss: 0.3654 - acc: 0.8293 - val_loss: 0.3698 - val_acc: 0.8271\n",
      "Epoch 27/200\n"
     ]
    },
    {
     "name": "stderr",
     "output_type": "stream",
     "text": [
      "The installed widget Javascript is the wrong version.\n"
     ]
    },
    {
     "name": "stdout",
     "output_type": "stream",
     "text": [
      "Epoch 00026: val_loss did not improve\n",
      "54s - loss: 0.3611 - acc: 0.8319 - val_loss: 0.3723 - val_acc: 0.8251\n",
      "Epoch 28/200\n"
     ]
    },
    {
     "name": "stderr",
     "output_type": "stream",
     "text": [
      "The installed widget Javascript is the wrong version.\n"
     ]
    },
    {
     "name": "stdout",
     "output_type": "stream",
     "text": [
      "Epoch 00027: val_loss improved from 0.36949 to 0.36838, saving model to weights_27_0.368.hdf5\n",
      "54s - loss: 0.3597 - acc: 0.8330 - val_loss: 0.3684 - val_acc: 0.8303\n",
      "Epoch 29/200\n"
     ]
    },
    {
     "name": "stderr",
     "output_type": "stream",
     "text": [
      "The installed widget Javascript is the wrong version.\n"
     ]
    },
    {
     "name": "stdout",
     "output_type": "stream",
     "text": [
      "Epoch 00028: val_loss improved from 0.36838 to 0.36250, saving model to weights_28_0.363.hdf5\n",
      "54s - loss: 0.3568 - acc: 0.8342 - val_loss: 0.3625 - val_acc: 0.8322\n",
      "Epoch 30/200\n"
     ]
    },
    {
     "name": "stderr",
     "output_type": "stream",
     "text": [
      "The installed widget Javascript is the wrong version.\n"
     ]
    },
    {
     "name": "stdout",
     "output_type": "stream",
     "text": [
      "Epoch 00029: val_loss did not improve\n",
      "54s - loss: 0.3550 - acc: 0.8359 - val_loss: 0.3665 - val_acc: 0.8297\n",
      "Epoch 31/200\n"
     ]
    },
    {
     "name": "stderr",
     "output_type": "stream",
     "text": [
      "The installed widget Javascript is the wrong version.\n"
     ]
    },
    {
     "name": "stdout",
     "output_type": "stream",
     "text": [
      "Epoch 00030: val_loss did not improve\n",
      "54s - loss: 0.3525 - acc: 0.8372 - val_loss: 0.3641 - val_acc: 0.8321\n",
      "Epoch 32/200\n"
     ]
    },
    {
     "name": "stderr",
     "output_type": "stream",
     "text": [
      "The installed widget Javascript is the wrong version.\n"
     ]
    },
    {
     "name": "stdout",
     "output_type": "stream",
     "text": [
      "Epoch 00031: val_loss improved from 0.36250 to 0.36163, saving model to weights_31_0.362.hdf5\n",
      "54s - loss: 0.3503 - acc: 0.8388 - val_loss: 0.3616 - val_acc: 0.8330\n",
      "Epoch 33/200\n"
     ]
    },
    {
     "name": "stderr",
     "output_type": "stream",
     "text": [
      "The installed widget Javascript is the wrong version.\n"
     ]
    },
    {
     "name": "stdout",
     "output_type": "stream",
     "text": [
      "Epoch 00032: val_loss did not improve\n",
      "54s - loss: 0.3484 - acc: 0.8390 - val_loss: 0.3637 - val_acc: 0.8311\n",
      "Epoch 34/200\n"
     ]
    },
    {
     "name": "stderr",
     "output_type": "stream",
     "text": [
      "The installed widget Javascript is the wrong version.\n"
     ]
    },
    {
     "name": "stdout",
     "output_type": "stream",
     "text": [
      "Epoch 00033: val_loss did not improve\n",
      "54s - loss: 0.3449 - acc: 0.8416 - val_loss: 0.3620 - val_acc: 0.8307\n",
      "Epoch 35/200\n"
     ]
    },
    {
     "name": "stderr",
     "output_type": "stream",
     "text": [
      "The installed widget Javascript is the wrong version.\n"
     ]
    },
    {
     "name": "stdout",
     "output_type": "stream",
     "text": [
      "Epoch 00034: val_loss improved from 0.36163 to 0.36077, saving model to weights_34_0.361.hdf5\n",
      "54s - loss: 0.3437 - acc: 0.8416 - val_loss: 0.3608 - val_acc: 0.8322\n",
      "Epoch 36/200\n"
     ]
    },
    {
     "name": "stderr",
     "output_type": "stream",
     "text": [
      "The installed widget Javascript is the wrong version.\n"
     ]
    },
    {
     "name": "stdout",
     "output_type": "stream",
     "text": [
      "Epoch 00035: val_loss did not improve\n",
      "54s - loss: 0.3422 - acc: 0.8428 - val_loss: 0.3623 - val_acc: 0.8326\n",
      "Epoch 37/200\n"
     ]
    },
    {
     "name": "stderr",
     "output_type": "stream",
     "text": [
      "The installed widget Javascript is the wrong version.\n"
     ]
    },
    {
     "name": "stdout",
     "output_type": "stream",
     "text": [
      "Epoch 00036: val_loss improved from 0.36077 to 0.35246, saving model to weights_36_0.352.hdf5\n",
      "54s - loss: 0.3405 - acc: 0.8440 - val_loss: 0.3525 - val_acc: 0.8381\n",
      "Epoch 38/200\n"
     ]
    },
    {
     "name": "stderr",
     "output_type": "stream",
     "text": [
      "The installed widget Javascript is the wrong version.\n"
     ]
    },
    {
     "name": "stdout",
     "output_type": "stream",
     "text": [
      "Epoch 00037: val_loss did not improve\n",
      "54s - loss: 0.3377 - acc: 0.8450 - val_loss: 0.3577 - val_acc: 0.8358\n",
      "Epoch 39/200\n"
     ]
    },
    {
     "name": "stderr",
     "output_type": "stream",
     "text": [
      "The installed widget Javascript is the wrong version.\n"
     ]
    },
    {
     "name": "stdout",
     "output_type": "stream",
     "text": [
      "Epoch 00038: val_loss did not improve\n",
      "54s - loss: 0.3355 - acc: 0.8464 - val_loss: 0.3565 - val_acc: 0.8361\n",
      "Epoch 40/200\n"
     ]
    },
    {
     "name": "stderr",
     "output_type": "stream",
     "text": [
      "The installed widget Javascript is the wrong version.\n"
     ]
    },
    {
     "name": "stdout",
     "output_type": "stream",
     "text": [
      "Epoch 00039: val_loss did not improve\n",
      "54s - loss: 0.3342 - acc: 0.8470 - val_loss: 0.3547 - val_acc: 0.8372\n",
      "Epoch 41/200\n"
     ]
    },
    {
     "name": "stderr",
     "output_type": "stream",
     "text": [
      "The installed widget Javascript is the wrong version.\n"
     ]
    },
    {
     "name": "stdout",
     "output_type": "stream",
     "text": [
      "Epoch 00040: val_loss improved from 0.35246 to 0.34937, saving model to weights_40_0.349.hdf5\n",
      "54s - loss: 0.3319 - acc: 0.8484 - val_loss: 0.3494 - val_acc: 0.8420\n",
      "Epoch 42/200\n"
     ]
    },
    {
     "name": "stderr",
     "output_type": "stream",
     "text": [
      "The installed widget Javascript is the wrong version.\n"
     ]
    },
    {
     "name": "stdout",
     "output_type": "stream",
     "text": [
      "Epoch 00041: val_loss did not improve\n",
      "54s - loss: 0.3301 - acc: 0.8491 - val_loss: 0.3506 - val_acc: 0.8412\n",
      "Epoch 43/200\n"
     ]
    },
    {
     "name": "stderr",
     "output_type": "stream",
     "text": [
      "The installed widget Javascript is the wrong version.\n"
     ]
    },
    {
     "name": "stdout",
     "output_type": "stream",
     "text": [
      "Epoch 00042: val_loss did not improve\n",
      "54s - loss: 0.3300 - acc: 0.8496 - val_loss: 0.3617 - val_acc: 0.8324\n",
      "Epoch 44/200\n"
     ]
    },
    {
     "name": "stderr",
     "output_type": "stream",
     "text": [
      "The installed widget Javascript is the wrong version.\n"
     ]
    },
    {
     "name": "stdout",
     "output_type": "stream",
     "text": [
      "Epoch 00043: val_loss did not improve\n",
      "54s - loss: 0.3276 - acc: 0.8508 - val_loss: 0.3515 - val_acc: 0.8393\n",
      "Epoch 45/200\n"
     ]
    },
    {
     "name": "stderr",
     "output_type": "stream",
     "text": [
      "The installed widget Javascript is the wrong version.\n"
     ]
    },
    {
     "name": "stdout",
     "output_type": "stream",
     "text": [
      "Epoch 00044: val_loss did not improve\n",
      "54s - loss: 0.3259 - acc: 0.8516 - val_loss: 0.3500 - val_acc: 0.8398\n",
      "Epoch 46/200\n"
     ]
    },
    {
     "name": "stderr",
     "output_type": "stream",
     "text": [
      "The installed widget Javascript is the wrong version.\n"
     ]
    },
    {
     "name": "stdout",
     "output_type": "stream",
     "text": [
      "Epoch 00045: val_loss improved from 0.34937 to 0.34752, saving model to weights_45_0.348.hdf5\n",
      "54s - loss: 0.3243 - acc: 0.8519 - val_loss: 0.3475 - val_acc: 0.8412\n",
      "Epoch 47/200\n"
     ]
    },
    {
     "name": "stderr",
     "output_type": "stream",
     "text": [
      "The installed widget Javascript is the wrong version.\n"
     ]
    },
    {
     "name": "stdout",
     "output_type": "stream",
     "text": [
      "Epoch 00046: val_loss did not improve\n",
      "54s - loss: 0.3228 - acc: 0.8531 - val_loss: 0.3510 - val_acc: 0.8405\n",
      "Epoch 48/200\n"
     ]
    },
    {
     "name": "stderr",
     "output_type": "stream",
     "text": [
      "The installed widget Javascript is the wrong version.\n"
     ]
    },
    {
     "name": "stdout",
     "output_type": "stream",
     "text": [
      "Epoch 00047: val_loss did not improve\n",
      "54s - loss: 0.3208 - acc: 0.8544 - val_loss: 0.3505 - val_acc: 0.8393\n",
      "Epoch 49/200\n"
     ]
    },
    {
     "name": "stderr",
     "output_type": "stream",
     "text": [
      "The installed widget Javascript is the wrong version.\n"
     ]
    },
    {
     "name": "stdout",
     "output_type": "stream",
     "text": [
      "Epoch 00048: val_loss did not improve\n",
      "54s - loss: 0.3201 - acc: 0.8543 - val_loss: 0.3522 - val_acc: 0.8373\n",
      "Epoch 50/200\n"
     ]
    },
    {
     "name": "stderr",
     "output_type": "stream",
     "text": [
      "The installed widget Javascript is the wrong version.\n"
     ]
    },
    {
     "name": "stdout",
     "output_type": "stream",
     "text": [
      "Epoch 00049: val_loss did not improve\n",
      "54s - loss: 0.3182 - acc: 0.8562 - val_loss: 0.3517 - val_acc: 0.8383\n",
      "Epoch 51/200\n"
     ]
    },
    {
     "name": "stderr",
     "output_type": "stream",
     "text": [
      "The installed widget Javascript is the wrong version.\n"
     ]
    },
    {
     "name": "stdout",
     "output_type": "stream",
     "text": [
      "Epoch 00050: val_loss improved from 0.34752 to 0.34302, saving model to weights_50_0.343.hdf5\n",
      "54s - loss: 0.3173 - acc: 0.8562 - val_loss: 0.3430 - val_acc: 0.8455\n",
      "Epoch 52/200\n"
     ]
    },
    {
     "name": "stderr",
     "output_type": "stream",
     "text": [
      "The installed widget Javascript is the wrong version.\n"
     ]
    },
    {
     "name": "stdout",
     "output_type": "stream",
     "text": [
      "Epoch 00051: val_loss did not improve\n",
      "54s - loss: 0.3149 - acc: 0.8574 - val_loss: 0.3449 - val_acc: 0.8422\n",
      "Epoch 53/200\n"
     ]
    },
    {
     "name": "stderr",
     "output_type": "stream",
     "text": [
      "The installed widget Javascript is the wrong version.\n"
     ]
    },
    {
     "name": "stdout",
     "output_type": "stream",
     "text": [
      "Epoch 00052: val_loss did not improve\n",
      "54s - loss: 0.3152 - acc: 0.8578 - val_loss: 0.3469 - val_acc: 0.8417\n",
      "Epoch 54/200\n"
     ]
    },
    {
     "name": "stderr",
     "output_type": "stream",
     "text": [
      "The installed widget Javascript is the wrong version.\n"
     ]
    },
    {
     "name": "stdout",
     "output_type": "stream",
     "text": [
      "Epoch 00053: val_loss did not improve\n",
      "54s - loss: 0.3128 - acc: 0.8583 - val_loss: 0.3469 - val_acc: 0.8410\n",
      "Epoch 55/200\n"
     ]
    },
    {
     "name": "stderr",
     "output_type": "stream",
     "text": [
      "The installed widget Javascript is the wrong version.\n"
     ]
    },
    {
     "name": "stdout",
     "output_type": "stream",
     "text": [
      "Epoch 00054: val_loss did not improve\n",
      "54s - loss: 0.3130 - acc: 0.8591 - val_loss: 0.3456 - val_acc: 0.8426\n",
      "Epoch 56/200\n"
     ]
    },
    {
     "name": "stderr",
     "output_type": "stream",
     "text": [
      "The installed widget Javascript is the wrong version.\n"
     ]
    },
    {
     "name": "stdout",
     "output_type": "stream",
     "text": [
      "Epoch 00055: val_loss did not improve\n",
      "54s - loss: 0.3096 - acc: 0.8597 - val_loss: 0.3447 - val_acc: 0.8429\n",
      "Epoch 57/200\n"
     ]
    },
    {
     "name": "stderr",
     "output_type": "stream",
     "text": [
      "The installed widget Javascript is the wrong version.\n"
     ]
    },
    {
     "name": "stdout",
     "output_type": "stream",
     "text": [
      "Epoch 00056: val_loss did not improve\n",
      "54s - loss: 0.3109 - acc: 0.8598 - val_loss: 0.3477 - val_acc: 0.8407\n",
      "Epoch 58/200\n"
     ]
    },
    {
     "name": "stderr",
     "output_type": "stream",
     "text": [
      "The installed widget Javascript is the wrong version.\n"
     ]
    },
    {
     "name": "stdout",
     "output_type": "stream",
     "text": [
      "Epoch 00057: val_loss did not improve\n",
      "54s - loss: 0.3090 - acc: 0.8608 - val_loss: 0.3482 - val_acc: 0.8394\n",
      "Epoch 59/200\n"
     ]
    },
    {
     "name": "stderr",
     "output_type": "stream",
     "text": [
      "The installed widget Javascript is the wrong version.\n"
     ]
    },
    {
     "name": "stdout",
     "output_type": "stream",
     "text": [
      "Epoch 00058: val_loss did not improve\n",
      "54s - loss: 0.3082 - acc: 0.8610 - val_loss: 0.3430 - val_acc: 0.8432\n",
      "Epoch 60/200\n"
     ]
    },
    {
     "name": "stderr",
     "output_type": "stream",
     "text": [
      "The installed widget Javascript is the wrong version.\n"
     ]
    },
    {
     "name": "stdout",
     "output_type": "stream",
     "text": [
      "Epoch 00059: val_loss did not improve\n",
      "54s - loss: 0.3071 - acc: 0.8618 - val_loss: 0.3446 - val_acc: 0.8421\n",
      "Epoch 61/200\n"
     ]
    },
    {
     "name": "stderr",
     "output_type": "stream",
     "text": [
      "The installed widget Javascript is the wrong version.\n"
     ]
    },
    {
     "name": "stdout",
     "output_type": "stream",
     "text": [
      "Epoch 00060: val_loss improved from 0.34302 to 0.33733, saving model to weights_60_0.337.hdf5\n",
      "54s - loss: 0.3062 - acc: 0.8626 - val_loss: 0.3373 - val_acc: 0.8482\n",
      "Epoch 62/200\n"
     ]
    },
    {
     "name": "stderr",
     "output_type": "stream",
     "text": [
      "The installed widget Javascript is the wrong version.\n"
     ]
    },
    {
     "name": "stdout",
     "output_type": "stream",
     "text": [
      "Epoch 00061: val_loss did not improve\n",
      "54s - loss: 0.3043 - acc: 0.8631 - val_loss: 0.3447 - val_acc: 0.8435\n",
      "Epoch 63/200\n"
     ]
    },
    {
     "name": "stderr",
     "output_type": "stream",
     "text": [
      "The installed widget Javascript is the wrong version.\n"
     ]
    },
    {
     "name": "stdout",
     "output_type": "stream",
     "text": [
      "Epoch 00062: val_loss did not improve\n",
      "54s - loss: 0.3037 - acc: 0.8636 - val_loss: 0.3455 - val_acc: 0.8411\n",
      "Epoch 64/200\n"
     ]
    },
    {
     "name": "stderr",
     "output_type": "stream",
     "text": [
      "The installed widget Javascript is the wrong version.\n"
     ]
    },
    {
     "name": "stdout",
     "output_type": "stream",
     "text": [
      "Epoch 00063: val_loss did not improve\n",
      "54s - loss: 0.3014 - acc: 0.8642 - val_loss: 0.3508 - val_acc: 0.8365\n",
      "Epoch 65/200\n"
     ]
    },
    {
     "name": "stderr",
     "output_type": "stream",
     "text": [
      "The installed widget Javascript is the wrong version.\n"
     ]
    },
    {
     "name": "stdout",
     "output_type": "stream",
     "text": [
      "Epoch 00064: val_loss did not improve\n",
      "54s - loss: 0.3019 - acc: 0.8646 - val_loss: 0.3455 - val_acc: 0.8423\n",
      "Epoch 66/200\n"
     ]
    },
    {
     "name": "stderr",
     "output_type": "stream",
     "text": [
      "The installed widget Javascript is the wrong version.\n"
     ]
    },
    {
     "name": "stdout",
     "output_type": "stream",
     "text": [
      "Epoch 00065: val_loss did not improve\n",
      "54s - loss: 0.3009 - acc: 0.8650 - val_loss: 0.3400 - val_acc: 0.8446\n",
      "Epoch 67/200\n"
     ]
    },
    {
     "name": "stderr",
     "output_type": "stream",
     "text": [
      "The installed widget Javascript is the wrong version.\n"
     ]
    },
    {
     "name": "stdout",
     "output_type": "stream",
     "text": [
      "Epoch 00066: val_loss did not improve\n",
      "54s - loss: 0.2999 - acc: 0.8653 - val_loss: 0.3404 - val_acc: 0.8455\n",
      "Epoch 68/200\n"
     ]
    },
    {
     "name": "stderr",
     "output_type": "stream",
     "text": [
      "The installed widget Javascript is the wrong version.\n"
     ]
    },
    {
     "name": "stdout",
     "output_type": "stream",
     "text": [
      "Epoch 00067: val_loss did not improve\n",
      "54s - loss: 0.2998 - acc: 0.8656 - val_loss: 0.3420 - val_acc: 0.8441\n",
      "Epoch 69/200\n"
     ]
    },
    {
     "name": "stderr",
     "output_type": "stream",
     "text": [
      "The installed widget Javascript is the wrong version.\n"
     ]
    },
    {
     "name": "stdout",
     "output_type": "stream",
     "text": [
      "Epoch 00068: val_loss did not improve\n",
      "54s - loss: 0.2985 - acc: 0.8662 - val_loss: 0.3443 - val_acc: 0.8416\n",
      "Epoch 70/200\n"
     ]
    },
    {
     "name": "stderr",
     "output_type": "stream",
     "text": [
      "The installed widget Javascript is the wrong version.\n"
     ]
    },
    {
     "name": "stdout",
     "output_type": "stream",
     "text": [
      "Epoch 00069: val_loss did not improve\n",
      "54s - loss: 0.2969 - acc: 0.8669 - val_loss: 0.3404 - val_acc: 0.8442\n",
      "Epoch 71/200\n"
     ]
    },
    {
     "name": "stderr",
     "output_type": "stream",
     "text": [
      "The installed widget Javascript is the wrong version.\n"
     ]
    },
    {
     "name": "stdout",
     "output_type": "stream",
     "text": [
      "Epoch 00070: val_loss did not improve\n",
      "54s - loss: 0.2966 - acc: 0.8675 - val_loss: 0.3450 - val_acc: 0.8421\n",
      "Epoch 72/200\n"
     ]
    },
    {
     "name": "stderr",
     "output_type": "stream",
     "text": [
      "The installed widget Javascript is the wrong version.\n"
     ]
    },
    {
     "name": "stdout",
     "output_type": "stream",
     "text": [
      "Epoch 00071: val_loss did not improve\n",
      "54s - loss: 0.2963 - acc: 0.8679 - val_loss: 0.3429 - val_acc: 0.8437\n",
      "\n"
     ]
    }
   ],
   "source": [
    "batch_size = 1024\n",
    "steps_per_epoch = y_train.shape[0]//batch_size\n",
    "validation_steps = y_validation.shape[0]//batch_size\n",
    "input_shape = maxlen\n",
    "\n",
    "train_generator = batch_generator(x_train[:, 0], x_train[:, 1], y_train, batch_size, shuffle=False)\n",
    "validation_generator = batch_generator(x_validation[:, 0], x_validation[:, 1], y_validation, batch_size, shuffle=False)\n",
    "\n",
    "model = get_nn_model(input_shape=input_shape)\n",
    "history = model.fit_generator(generator=train_generator,\n",
    "                              steps_per_epoch=steps_per_epoch,\n",
    "                              validation_data=validation_generator,\n",
    "                              validation_steps=validation_steps,\n",
    "                              epochs=200, verbose=2, callbacks=callbacks_list,\n",
    "                              max_q_size=2)"
   ]
  },
  {
   "cell_type": "code",
   "execution_count": null,
   "metadata": {
    "collapsed": true
   },
   "outputs": [],
   "source": []
  }
 ],
 "metadata": {
  "kernelspec": {
   "display_name": "Python [conda env:py35]",
   "language": "python",
   "name": "conda-env-py35-py"
  },
  "language_info": {
   "codemirror_mode": {
    "name": "ipython",
    "version": 3
   },
   "file_extension": ".py",
   "mimetype": "text/x-python",
   "name": "python",
   "nbconvert_exporter": "python",
   "pygments_lexer": "ipython3",
   "version": "3.5.2"
  }
 },
 "nbformat": 4,
 "nbformat_minor": 2
}
