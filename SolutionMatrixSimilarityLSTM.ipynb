{
 "cells": [
  {
   "cell_type": "code",
   "execution_count": 1,
   "metadata": {},
   "outputs": [
    {
     "name": "stderr",
     "output_type": "stream",
     "text": [
      "Using Theano backend.\n",
      "Using cuDNN version 5110 on context None\n",
      "Mapped name None to device cuda: GeForce GTX 1080 (0000:01:00.0)\n"
     ]
    }
   ],
   "source": [
    "import os\n",
    "import pandas as pd\n",
    "import numpy as np\n",
    "import h5py\n",
    "\n",
    "from sklearn.feature_extraction.text import CountVectorizer, TfidfVectorizer\n",
    "from nltk.corpus import stopwords\n",
    "\n",
    "from scipy.sparse import hstack, vstack, csr_matrix\n",
    "from scipy import sparse\n",
    "\n",
    "from keras.models import Sequential, Model\n",
    "from keras.layers import Input\n",
    "from keras.layers.merge import Concatenate\n",
    "from keras.layers import Dense, Dropout, Merge, concatenate, TimeDistributed, Reshape\n",
    "from keras.layers import LSTM, Embedding, GRU\n",
    "from keras.layers import Conv1D, MaxPooling1D, GlobalAveragePooling1D\n",
    "from keras.layers import Conv2D, MaxPooling2D, Flatten\n",
    "from keras.layers.pooling import GlobalMaxPooling2D\n",
    "from keras import optimizers\n",
    "\n",
    "from keras.callbacks import ModelCheckpoint, EarlyStopping, TensorBoard\n",
    "from keras.utils import np_utils\n",
    "from keras.preprocessing.text import Tokenizer\n",
    "from keras.preprocessing.sequence import pad_sequences\n",
    "from keras.layers.normalization import BatchNormalization\n",
    "from keras_tqdm import TQDMNotebookCallback, TQDMCallback\n",
    "\n",
    "\n",
    "from sklearn import linear_model\n",
    "from sklearn.naive_bayes import MultinomialNB, GaussianNB\n",
    "from sklearn.linear_model import LogisticRegression, SGDClassifier, PassiveAggressiveClassifier, Perceptron\n",
    "from sklearn.svm import SVC, LinearSVC, NuSVC\n",
    "\n",
    "from sklearn.metrics import mean_squared_error, accuracy_score, log_loss\n",
    "from sklearn.model_selection import train_test_split, cross_val_score\n",
    "from sklearn.pipeline import make_pipeline\n",
    "from sklearn.feature_selection import SelectPercentile, f_classif, mutual_info_classif, chi2, SelectFromModel\n",
    "from sklearn.feature_selection import VarianceThreshold\n",
    "\n",
    "from sklearn import preprocessing\n",
    "from sklearn.decomposition import PCA\n",
    "\n",
    "import gensim\n",
    "from gensim.models import Word2Vec\n",
    "\n",
    "import re\n",
    "import pymorphy2\n",
    "import nltk\n",
    "from nltk.tokenize import word_tokenize\n",
    "from nltk.corpus import stopwords\n",
    "from nltk.corpus import wordnet\n",
    "import spacy\n",
    "from fuzzywuzzy import fuzz\n",
    "\n",
    "from multiprocessing import Pool"
   ]
  },
  {
   "cell_type": "code",
   "execution_count": 2,
   "metadata": {
    "collapsed": true
   },
   "outputs": [],
   "source": [
    "import matplotlib\n",
    "from matplotlib import rc\n",
    "import matplotlib.pyplot as plt\n",
    "\n",
    "#font = {'family': 'Verdana', 'weight': 'normal'}\n",
    "#rc('font', **font)\n",
    "matplotlib.style.use('classic')\n",
    "\n",
    "%matplotlib inline\n",
    "\n",
    "pd.set_option('display.max_rows', 15)"
   ]
  },
  {
   "cell_type": "code",
   "execution_count": 3,
   "metadata": {
    "collapsed": true
   },
   "outputs": [],
   "source": [
    "def space_tokenizer(s):\n",
    "    return s.split()"
   ]
  },
  {
   "cell_type": "markdown",
   "metadata": {},
   "source": [
    "# Загрузка данных"
   ]
  },
  {
   "cell_type": "markdown",
   "metadata": {},
   "source": [
    "### load_word2vec"
   ]
  },
  {
   "cell_type": "code",
   "execution_count": 4,
   "metadata": {
    "collapsed": true
   },
   "outputs": [],
   "source": [
    "w2v_path = os.path.join(os.sep, os.path.abspath('/home/data/word2vec/english/GoogleNews-vectors-negative300.bin'))\n",
    "w2v = gensim.models.KeyedVectors.load_word2vec_format(w2v_path, binary=True)\n",
    "w2v.init_sims(replace=True)"
   ]
  },
  {
   "cell_type": "markdown",
   "metadata": {},
   "source": [
    "### Tokenized Texts"
   ]
  },
  {
   "cell_type": "code",
   "execution_count": 5,
   "metadata": {
    "collapsed": true
   },
   "outputs": [],
   "source": [
    "def load_tokenized_series(filename):\n",
    "    try:\n",
    "        series = pd.read_csv(filename, index_col='id', header=0)\n",
    "    except:\n",
    "        series = pd.read_csv(filename, index_col='test_id', header=0)\n",
    "    series = series['question'].fillna('')\n",
    "    return series"
   ]
  },
  {
   "cell_type": "code",
   "execution_count": 6,
   "metadata": {
    "collapsed": true
   },
   "outputs": [],
   "source": [
    "# load tokenized questions\n",
    "train_q1_tokenized_objects = load_tokenized_series('train_q1_tokenized.csv')\n",
    "train_q2_tokenized_objects = load_tokenized_series('train_q2_tokenized.csv')\n",
    "test_q1_tokenized_objects = load_tokenized_series('test_q1_tokenized.csv')\n",
    "test_q2_tokenized_objects = load_tokenized_series('test_q2_tokenized.csv')"
   ]
  },
  {
   "cell_type": "code",
   "execution_count": 7,
   "metadata": {
    "collapsed": true
   },
   "outputs": [],
   "source": [
    "train_set = pd.read_csv('/home/data/share/quora/train.csv', index_col=0)\n",
    "Y_train = train_set['is_duplicate']\n",
    "del train_set"
   ]
  },
  {
   "cell_type": "markdown",
   "metadata": {},
   "source": [
    "#### stopwords removing"
   ]
  },
  {
   "cell_type": "code",
   "execution_count": 8,
   "metadata": {
    "collapsed": true
   },
   "outputs": [],
   "source": [
    "include_stopwords = False\n",
    "\n",
    "stopwords_set = set([stopword for stopword in stopwords.words(\"english\") if stopword not in w2v.vocab])\n",
    "\n",
    "def remove_stop_words(text):\n",
    "    return ' '.join([word for word in text.split() if word not in stopwords_set])\n",
    "\n",
    "if not include_stopwords:\n",
    "    train_q1_tokenized_objects = train_q1_tokenized_objects.apply(remove_stop_words)\n",
    "    train_q2_tokenized_objects = train_q2_tokenized_objects.apply(remove_stop_words)\n",
    "    test_q1_tokenized_objects = test_q1_tokenized_objects.apply(remove_stop_words)\n",
    "    test_q2_tokenized_objects = test_q2_tokenized_objects.apply(remove_stop_words)"
   ]
  },
  {
   "cell_type": "markdown",
   "metadata": {},
   "source": [
    "## Load Similarity Matrixes"
   ]
  },
  {
   "cell_type": "code",
   "execution_count": 9,
   "metadata": {
    "collapsed": true
   },
   "outputs": [],
   "source": [
    "maxlen, chanels = 21, 3"
   ]
  },
  {
   "cell_type": "code",
   "execution_count": 10,
   "metadata": {
    "collapsed": true
   },
   "outputs": [],
   "source": [
    "with h5py.File('similarity_matrixes_v2.h5', 'r') as hf:\n",
    "    #similarity_matrixes_train = hf['similarity_matrixes_train_centred_idf_fuzzy_w2v'][:]\n",
    "    similarity_matrixes_test = hf['similarity_matrixes_test_centred_idf_fuzzy_w2v'][:]"
   ]
  },
  {
   "cell_type": "markdown",
   "metadata": {},
   "source": [
    "# Features"
   ]
  },
  {
   "cell_type": "markdown",
   "metadata": {},
   "source": [
    "## Similarity Matrixes"
   ]
  },
  {
   "cell_type": "code",
   "execution_count": 11,
   "metadata": {
    "scrolled": true
   },
   "outputs": [
    {
     "data": {
      "image/png": "[encoded data removed]",
      "text/plain": [
       "<matplotlib.figure.Figure at 0x7f12156b1d30>"
      ]
     },
     "metadata": {},
     "output_type": "display_data"
    },
    {
     "data": {
      "image/png": "[encoded data removed]",
      "text/plain": [
       "<matplotlib.figure.Figure at 0x7f123085dcf8>"
      ]
     },
     "metadata": {},
     "output_type": "display_data"
    },
    {
     "data": {
      "image/png": "[encoded data removed]",
      "text/plain": [
       "<matplotlib.figure.Figure at 0x7f121d61bf98>"
      ]
     },
     "metadata": {},
     "output_type": "display_data"
    },
    {
     "data": {
      "image/png": "[encoded data removed]",
      "text/plain": [
       "<matplotlib.figure.Figure at 0x7f12137a7fd0>"
      ]
     },
     "metadata": {},
     "output_type": "display_data"
    },
    {
     "data": {
      "image/png": "[encoded data removed]",
      "text/plain": [
       "<matplotlib.figure.Figure at 0x7f1214369da0>"
      ]
     },
     "metadata": {},
     "output_type": "display_data"
    }
   ],
   "source": [
    "for _ in range(5):\n",
    "    n=np.random.randint(similarity_matrixes_train.shape[0])\n",
    "    fig, axs = plt.subplots(nrows=1, ncols=3)\n",
    "    axs[0].matshow(similarity_matrixes_train[n, 0])\n",
    "    axs[1].matshow(similarity_matrixes_train[n, 1])\n",
    "    axs[2].matshow(similarity_matrixes_train[n, 2])\n",
    "    plt.show()"
   ]
  },
  {
   "cell_type": "code",
   "execution_count": 11,
   "metadata": {},
   "outputs": [],
   "source": [
    "def get_nonzero_matrix_boundaries(M):\n",
    "    rw, cl = np.nonzero(M)\n",
    "    \n",
    "    if rw.size and cl.size:\n",
    "        boundaries = [[rw.min(), rw.max()+1], [cl.min(), cl.max()+1]]\n",
    "    elif rw.size:\n",
    "        boundaries = [[rw.min(), rw.max()+1], [0, M.shape[1]]]\n",
    "    elif cl.size:\n",
    "        boundaries = [[0, M.shape[0]], [cl.min(), cl.max()+1]]\n",
    "    else:\n",
    "        boundaries = [[0, M.shape[0]], [0, M.shape[1]]]\n",
    "        \n",
    "    return boundaries\n",
    "\n",
    "def drop_empty_rows_and_columns(M, boundaries=None):\n",
    "    rw, cl = np.nonzero(M)\n",
    "    \n",
    "    if boundaries is None:\n",
    "        if rw.size and cl.size:\n",
    "            M = M[rw.min():rw.max()+1, cl.min():cl.max()+1]\n",
    "        elif rw.size:\n",
    "            M = M[rw.min():rw.max()+1, :]\n",
    "        elif cl.size:\n",
    "            M = M[:, cl.min():cl.max()+1]\n",
    "    else:\n",
    "        M = M[boundaries[0][0]:boundaries[0][1], boundaries[1][0]:boundaries[1][1]]\n",
    "        \n",
    "    return M\n",
    "        \n",
    "\n",
    "def pad_matrix(matrix, max_shape=(maxlen, maxlen)):\n",
    "    shape = matrix.shape\n",
    "    pad_width = ((max_shape[0]-shape[0], 0) if shape[0]<max_shape[0] else (0, 0),\n",
    "                 (max_shape[1]-shape[1], 0) if shape[1]<max_shape[1] else (0, 0))\n",
    "\n",
    "    return np.pad(matrix, pad_width, mode='constant')[:max_shape[0], :max_shape[1]]\n",
    "\n",
    "def convert_matrix(matrix, max_shape=(maxlen, maxlen), boundaries=None):\n",
    "    return pad_matrix(drop_empty_rows_and_columns(matrix, boundaries), max_shape)"
   ]
  },
  {
   "cell_type": "code",
   "execution_count": 13,
   "metadata": {},
   "outputs": [
    {
     "data": {
      "image/png": "[encoded data removed]",
      "text/plain": [
       "<matplotlib.figure.Figure at 0x7f12147a6dd8>"
      ]
     },
     "metadata": {},
     "output_type": "display_data"
    }
   ],
   "source": [
    "n = np.random.randint(similarity_matrixes_train.shape[0])\n",
    "m = similarity_matrixes_train[n, 0]\n",
    "\n",
    "fig, axs = plt.subplots(nrows=1, ncols=2)\n",
    "axs[0].matshow(m)\n",
    "axs[1].matshow(convert_matrix(m))\n",
    "plt.show()"
   ]
  },
  {
   "cell_type": "markdown",
   "metadata": {},
   "source": [
    "## W2V Sequences"
   ]
  },
  {
   "cell_type": "code",
   "execution_count": 12,
   "metadata": {
    "collapsed": true
   },
   "outputs": [],
   "source": [
    "train_index = train_q1_tokenized_objects.index\n",
    "train_pairs = pd.DataFrame(index=train_index)\n",
    "train_pairs['question1'] = train_q1_tokenized_objects\n",
    "train_pairs['question2'] = train_q2_tokenized_objects\n",
    "train_pairs = train_pairs.values\n",
    "\n",
    "test_index = test_q1_tokenized_objects.index\n",
    "test_pairs = pd.DataFrame(index=test_index)\n",
    "test_pairs['question1'] = test_q1_tokenized_objects\n",
    "test_pairs['question2'] = test_q2_tokenized_objects\n",
    "test_pairs = test_pairs.values"
   ]
  },
  {
   "cell_type": "code",
   "execution_count": 13,
   "metadata": {
    "collapsed": true
   },
   "outputs": [],
   "source": [
    "def tokens_to_embeddings(text):\n",
    "    sequence = [w2v.syn0norm[w2v.vocab[token].index] for token in space_tokenizer(text) if word in w2v.vocab]\n",
    "\n",
    "    if not sequence:\n",
    "        return np.zeros(300)\n",
    "\n",
    "    return np.concatenate(sequence)"
   ]
  },
  {
   "cell_type": "code",
   "execution_count": 14,
   "metadata": {
    "collapsed": true
   },
   "outputs": [],
   "source": [
    "all_texts = np.concatenate([train_pairs[:, 0], train_pairs[:, 1], test_pairs[:, 0], test_pairs[:, 1]])\n",
    "tokenizer = Tokenizer(filters='', lower=False, split=' ')\n",
    "tokenizer.fit_on_texts(all_texts)"
   ]
  },
  {
   "cell_type": "code",
   "execution_count": 15,
   "metadata": {},
   "outputs": [
    {
     "name": "stdout",
     "output_type": "stream",
     "text": [
      "Found 128778 unique tokens\n"
     ]
    }
   ],
   "source": [
    "vocab = tokenizer.word_index\n",
    "vocab_len = len(vocab)\n",
    "print('Found {} unique tokens'.format(vocab_len))"
   ]
  },
  {
   "cell_type": "code",
   "execution_count": 16,
   "metadata": {},
   "outputs": [],
   "source": [
    "train_sequences = train_pairs.copy()\n",
    "train_sequences[:, 0] = tokenizer.texts_to_sequences(train_sequences[:, 0])\n",
    "train_sequences[:, 1] = tokenizer.texts_to_sequences(train_sequences[:, 1])\n",
    "\n",
    "test_sequences = test_pairs.copy()\n",
    "test_sequences[:, 0] = tokenizer.texts_to_sequences(test_sequences[:, 0])\n",
    "test_sequences[:, 1] = tokenizer.texts_to_sequences(test_sequences[:, 1])"
   ]
  },
  {
   "cell_type": "code",
   "execution_count": 17,
   "metadata": {
    "collapsed": true
   },
   "outputs": [],
   "source": [
    "train_sequences_q1 = pad_sequences(train_sequences[:, 0], maxlen=maxlen)\n",
    "train_sequences_q2 = pad_sequences(train_sequences[:, 1], maxlen=maxlen)\n",
    "train_sequences = np.array([pair for pair in list(zip(train_sequences_q1, train_sequences_q2))])\n",
    "del train_sequences_q1, train_sequences_q2\n",
    "\n",
    "test_sequences_q1 = pad_sequences(test_sequences[:, 0], maxlen=maxlen)\n",
    "test_sequences_q2 = pad_sequences(test_sequences[:, 1], maxlen=maxlen)\n",
    "test_sequences = np.array([pair for pair in list(zip(test_sequences_q1, test_sequences_q2))])\n",
    "del test_sequences_q1, test_sequences_q2"
   ]
  },
  {
   "cell_type": "code",
   "execution_count": 18,
   "metadata": {},
   "outputs": [
    {
     "name": "stdout",
     "output_type": "stream",
     "text": [
      "Null word embeddings: 69934\n"
     ]
    }
   ],
   "source": [
    "embedding_dim = 300\n",
    "embedding_weights = np.zeros((vocab_len+1, embedding_dim))\n",
    "for word, index in vocab.items():\n",
    "    if word in w2v.vocab:\n",
    "        embedding_weights[index, :] = w2v.syn0norm[w2v.vocab[word].index] \n",
    "        \n",
    "print('Null word embeddings: %d' % np.sum(np.sum(embedding_weights, axis=1) == 0))"
   ]
  },
  {
   "cell_type": "code",
   "execution_count": 19,
   "metadata": {
    "collapsed": true
   },
   "outputs": [],
   "source": [
    "del train_pairs, test_pairs"
   ]
  },
  {
   "cell_type": "code",
   "execution_count": 20,
   "metadata": {},
   "outputs": [],
   "source": [
    "max_features, embedding_dim, maxlen = vocab_len+1, 300, maxlen"
   ]
  },
  {
   "cell_type": "markdown",
   "metadata": {},
   "source": [
    "# Множества(train, test, validation)"
   ]
  },
  {
   "cell_type": "code",
   "execution_count": 46,
   "metadata": {},
   "outputs": [],
   "source": [
    "#train_features = np.array(list(zip(similarity_matrixes_train, train_sequences)))\n",
    "test_features = np.array(list(zip(similarity_matrixes_test, test_sequences)))"
   ]
  },
  {
   "cell_type": "code",
   "execution_count": 47,
   "metadata": {},
   "outputs": [],
   "source": [
    "#x_train, x_validation, y_train, y_validation = train_test_split(train_features, Y_train.values,\n",
    "#                                                                test_size=0.1, random_state=42)\n",
    "x_test = test_features"
   ]
  },
  {
   "cell_type": "markdown",
   "metadata": {},
   "source": [
    "# Models"
   ]
  },
  {
   "cell_type": "markdown",
   "metadata": {},
   "source": [
    "# NN"
   ]
  },
  {
   "cell_type": "markdown",
   "metadata": {},
   "source": [
    "### batch_generator"
   ]
  },
  {
   "cell_type": "code",
   "execution_count": 24,
   "metadata": {
    "collapsed": true
   },
   "outputs": [],
   "source": [
    "def bath_transformation_similarity_matrix(batch):\n",
    "    result_rows, result_cols = [], []\n",
    "    for matrixes in batch:\n",
    "        boundaries = get_nonzero_matrix_boundaries(matrixes[0])\n",
    "        matrixes = [convert_matrix(matrix, (maxlen, maxlen), boundaries) for matrix in matrixes]\n",
    "        idf_matrix, w2v_matrix, fuzzy_matrix = matrixes\n",
    "        rows_image = np.concatenate([fuzzy_matrix, w2v_matrix, idf_matrix], axis=1)\n",
    "        cols_image = np.concatenate([fuzzy_matrix, w2v_matrix, idf_matrix], axis=0).T\n",
    "        \n",
    "        result_rows.append(rows_image)\n",
    "        result_cols.append(cols_image)\n",
    "    \n",
    "    return [np.array(result_rows), np.array(result_cols)]\n",
    "\n",
    "def bath_transformation(batch):\n",
    "    batch = list(zip(*batch))\n",
    "    matrixes, sequences = batch[0], np.array(batch[1])\n",
    "    batch = bath_transformation_similarity_matrix(batch[0]) + [sequences[:, 0], sequences[:, 1]]\n",
    "    \n",
    "    return batch"
   ]
  },
  {
   "cell_type": "code",
   "execution_count": 25,
   "metadata": {
    "collapsed": true
   },
   "outputs": [],
   "source": [
    "def batch_generator(X, Y, batch_size, shuffle=False):\n",
    "    n = Y.shape[0]\n",
    "    number_of_batches, counter, shuffle_index = n//batch_size, 0, np.arange(n)\n",
    "    \n",
    "    if shuffle:\n",
    "        np.random.shuffle(shuffle_index)\n",
    "\n",
    "    X, Y =  X[shuffle_index], Y[shuffle_index]\n",
    "    \n",
    "    while True:\n",
    "        for counter in range(number_of_batches+1):\n",
    "            index_batch = shuffle_index[batch_size*counter:batch_size*(counter+1)]\n",
    "            X_batch, Y_batch = bath_transformation(X[index_batch]), Y[index_batch]\n",
    "            yield X_batch, Y_batch\n",
    "            \n",
    "        if shuffle:\n",
    "            np.random.shuffle(shuffle_index)"
   ]
  },
  {
   "cell_type": "markdown",
   "metadata": {},
   "source": [
    "### model architecture"
   ]
  },
  {
   "cell_type": "code",
   "execution_count": 26,
   "metadata": {},
   "outputs": [],
   "source": [
    "def get_representation_lstm_matrixes(input_shape): #0.309\n",
    "    model = Sequential()\n",
    "    model.add(GRU(300, dropout=0.2, recurrent_dropout=0.2, return_sequences=True, input_shape=input_shape))\n",
    "    model.add(GRU(300, dropout=0.2, recurrent_dropout=0.2, return_sequences=True))\n",
    "    model.add(GRU(300, dropout=0.2, recurrent_dropout=0.2))\n",
    "    \n",
    "    return model\n",
    "\n",
    "def get_representation_lstm_sequences(input_shape):\n",
    "    representation = Sequential()\n",
    "    representation.add(Embedding(max_features, embedding_dim, input_length=input_shape, \n",
    "                                 weights=[embedding_weights], trainable=False))\n",
    "    representation.add(GRU(embedding_dim, dropout=0.2, recurrent_dropout=0.2))\n",
    "    \n",
    "    return representation\n",
    "\n",
    "def build_model(input_shape):\n",
    "    model = Sequential()\n",
    "    \n",
    "    representation_lstm_matrixes_q1 = get_representation_lstm_matrixes(input_shape)\n",
    "    representation_lstm_matrixes_q2 = get_representation_lstm_matrixes(input_shape)\n",
    "    representation_lstm_sequences_q1 = get_representation_lstm_sequences(maxlen)\n",
    "    representation_lstm_sequences_q2 = get_representation_lstm_sequences(maxlen)\n",
    "    \n",
    "    model.add(Merge([representation_lstm_matrixes_q1, representation_lstm_matrixes_q2,\n",
    "                     representation_lstm_sequences_q1, representation_lstm_sequences_q2], mode='concat'))\n",
    "    model.add(BatchNormalization())\n",
    "    \n",
    "    model.add(Dense(128, activation='relu'))\n",
    "    model.add(Dropout(0.2))\n",
    "    model.add(BatchNormalization())\n",
    "    \n",
    "    model.add(Dense(1, activation='sigmoid', kernel_initializer='he_normal'))\n",
    "    \n",
    "    print(representation_lstm_matrixes_q1.summary())\n",
    "    print(representation_lstm_sequences_q1.summary())\n",
    "    print(model.summary())\n",
    "    \n",
    "    return model"
   ]
  },
  {
   "cell_type": "code",
   "execution_count": 27,
   "metadata": {
    "collapsed": true
   },
   "outputs": [],
   "source": [
    "def get_representation_lstm_matrixes(input_shape): #0.309\n",
    "    model = Sequential()\n",
    "    model.add(GRU(300, dropout=0.2, recurrent_dropout=0.2, return_sequences=True, input_shape=input_shape))\n",
    "    model.add(GRU(300, dropout=0.2, recurrent_dropout=0.2, return_sequences=True))\n",
    "    model.add(GRU(300, dropout=0.2, recurrent_dropout=0.2))\n",
    "    \n",
    "    return model\n",
    "\n",
    "def get_representation_lstm_sequences(input_shape):\n",
    "    representation = Sequential()\n",
    "    representation.add(Embedding(max_features, embedding_dim, input_length=input_shape, \n",
    "                                 weights=[embedding_weights], trainable=False))\n",
    "    representation.add(GRU(embedding_dim, dropout=0.2, recurrent_dropout=0.2))\n",
    "    \n",
    "    return representation\n",
    "\n",
    "def build_model(input_shape, print_summary=True):\n",
    "    model = Sequential()\n",
    "    \n",
    "    representation_lstm_matrixes_q1 = get_representation_lstm_matrixes(input_shape)\n",
    "    representation_lstm_matrixes_q2 = get_representation_lstm_matrixes(input_shape)\n",
    "    representation_lstm_sequences_q1 = get_representation_lstm_sequences(maxlen)\n",
    "    representation_lstm_sequences_q2 = get_representation_lstm_sequences(maxlen)\n",
    "    \n",
    "    model.add(Merge([representation_lstm_matrixes_q1, representation_lstm_matrixes_q2,\n",
    "                     representation_lstm_sequences_q1, representation_lstm_sequences_q2], mode='concat'))\n",
    "    model.add(BatchNormalization())\n",
    "    \n",
    "    model.add(Dense(128, activation='relu'))\n",
    "    model.add(Dropout(0.2))\n",
    "    model.add(BatchNormalization())\n",
    "    \n",
    "    model.add(Dense(1, activation='sigmoid', kernel_initializer='he_normal'))\n",
    "    \n",
    "    if print_summary:\n",
    "        print(representation_lstm_matrixes_q1.summary())\n",
    "        print(representation_lstm_sequences_q1.summary())\n",
    "        print(model.summary())\n",
    "\n",
    "    return model"
   ]
  },
  {
   "cell_type": "code",
   "execution_count": 28,
   "metadata": {},
   "outputs": [],
   "source": [
    "def get_nn_model(*, path_to_hdf5=False, input_shape=None, print_summary=True):\n",
    "    model = build_model(input_shape, print_summary=print_summary) \n",
    "    model.compile(loss='binary_crossentropy', optimizer='adam', metrics=['accuracy'])\n",
    "    \n",
    "    # load pretrained weights\n",
    "    if path_to_hdf5:\n",
    "        model.load_weights(path_to_hdf5)\n",
    "\n",
    "    return model\n",
    "\n",
    "\n",
    "filepath=\"weights_{epoch:02d}_{val_loss:.3f}.hdf5\"\n",
    "checkpoint = ModelCheckpoint(filepath, monitor='val_loss', verbose=1, save_best_only=True, mode='min')\n",
    "early_stopping = EarlyStopping(monitor='val_loss', patience=5, mode='min')\n",
    "callbacks_list = [checkpoint, early_stopping, TQDMNotebookCallback()]"
   ]
  },
  {
   "cell_type": "markdown",
   "metadata": {},
   "source": [
    "### training"
   ]
  },
  {
   "cell_type": "code",
   "execution_count": 34,
   "metadata": {},
   "outputs": [],
   "source": [
    "batch_size = 1024\n",
    "input_shape = (maxlen, maxlen*chanels)"
   ]
  },
  {
   "cell_type": "code",
   "execution_count": null,
   "metadata": {
    "scrolled": true
   },
   "outputs": [
    {
     "name": "stderr",
     "output_type": "stream",
     "text": [
      "/opt/lab/anaconda/envs/py35/lib/python3.5/site-packages/ipykernel/__main__.py:26: UserWarning: The `Merge` layer is deprecated and will be removed after 08/2017. Use instead layers from `keras.layers.merge`, e.g. `add`, `concatenate`, etc.\n"
     ]
    },
    {
     "name": "stdout",
     "output_type": "stream",
     "text": [
      "_________________________________________________________________\n",
      "Layer (type)                 Output Shape              Param #   \n",
      "=================================================================\n",
      "gru_41 (GRU)                 (None, 21, 300)           327600    \n",
      "_________________________________________________________________\n",
      "gru_42 (GRU)                 (None, 21, 300)           540900    \n",
      "_________________________________________________________________\n",
      "gru_43 (GRU)                 (None, 300)               540900    \n",
      "=================================================================\n",
      "Total params: 1,409,400\n",
      "Trainable params: 1,409,400\n",
      "Non-trainable params: 0\n",
      "_________________________________________________________________\n",
      "None\n",
      "_________________________________________________________________\n",
      "Layer (type)                 Output Shape              Param #   \n",
      "=================================================================\n",
      "embedding_11 (Embedding)     (None, 21, 300)           38633700  \n",
      "_________________________________________________________________\n",
      "gru_47 (GRU)                 (None, 300)               540900    \n",
      "=================================================================\n",
      "Total params: 39,174,600\n",
      "Trainable params: 540,900\n",
      "Non-trainable params: 38,633,700\n",
      "_________________________________________________________________\n",
      "None\n",
      "_________________________________________________________________\n",
      "Layer (type)                 Output Shape              Param #   \n",
      "=================================================================\n",
      "merge_6 (Merge)              (None, 1200)              0         \n",
      "_________________________________________________________________\n",
      "batch_normalization_10 (Batc (None, 1200)              4800      \n",
      "_________________________________________________________________\n",
      "dense_12 (Dense)             (None, 128)               153728    \n",
      "_________________________________________________________________\n",
      "dropout_7 (Dropout)          (None, 128)               0         \n",
      "_________________________________________________________________\n",
      "batch_normalization_11 (Batc (None, 128)               512       \n",
      "_________________________________________________________________\n",
      "dense_13 (Dense)             (None, 1)                 129       \n",
      "=================================================================\n",
      "Total params: 81,327,169\n",
      "Trainable params: 4,057,113\n",
      "Non-trainable params: 77,270,056\n",
      "_________________________________________________________________\n",
      "None\n"
     ]
    },
    {
     "name": "stderr",
     "output_type": "stream",
     "text": [
      "The installed widget Javascript is the wrong version.\n",
      "The installed widget Javascript is the wrong version.\n"
     ]
    },
    {
     "name": "stdout",
     "output_type": "stream",
     "text": [
      "Epoch 1/200\n",
      "Epoch 00000: val_loss improved from inf to 0.50658, saving model to weights_00_0.507.hdf5\n",
      "180s - loss: 0.5278 - acc: 0.7307 - val_loss: 0.5066 - val_acc: 0.7540\n",
      "Epoch 2/200\n"
     ]
    },
    {
     "name": "stderr",
     "output_type": "stream",
     "text": [
      "The installed widget Javascript is the wrong version.\n"
     ]
    },
    {
     "name": "stdout",
     "output_type": "stream",
     "text": [
      "Epoch 00001: val_loss improved from 0.50658 to 0.41429, saving model to weights_01_0.414.hdf5\n",
      "181s - loss: 0.4467 - acc: 0.7788 - val_loss: 0.4143 - val_acc: 0.7980\n",
      "Epoch 3/200\n"
     ]
    },
    {
     "name": "stderr",
     "output_type": "stream",
     "text": [
      "The installed widget Javascript is the wrong version.\n"
     ]
    },
    {
     "name": "stdout",
     "output_type": "stream",
     "text": [
      "Epoch 00002: val_loss improved from 0.41429 to 0.38924, saving model to weights_02_0.389.hdf5\n",
      "181s - loss: 0.4133 - acc: 0.7987 - val_loss: 0.3892 - val_acc: 0.8123\n",
      "Epoch 4/200\n"
     ]
    },
    {
     "name": "stderr",
     "output_type": "stream",
     "text": [
      "The installed widget Javascript is the wrong version.\n"
     ]
    },
    {
     "name": "stdout",
     "output_type": "stream",
     "text": [
      "Epoch 00003: val_loss improved from 0.38924 to 0.37204, saving model to weights_03_0.372.hdf5\n",
      "181s - loss: 0.3915 - acc: 0.8112 - val_loss: 0.3720 - val_acc: 0.8211\n",
      "Epoch 5/200\n"
     ]
    },
    {
     "name": "stderr",
     "output_type": "stream",
     "text": [
      "The installed widget Javascript is the wrong version.\n"
     ]
    },
    {
     "name": "stdout",
     "output_type": "stream",
     "text": [
      "Epoch 00004: val_loss improved from 0.37204 to 0.35698, saving model to weights_04_0.357.hdf5\n",
      "181s - loss: 0.3751 - acc: 0.8212 - val_loss: 0.3570 - val_acc: 0.8297\n",
      "Epoch 6/200\n"
     ]
    },
    {
     "name": "stderr",
     "output_type": "stream",
     "text": [
      "The installed widget Javascript is the wrong version.\n"
     ]
    },
    {
     "name": "stdout",
     "output_type": "stream",
     "text": [
      "Epoch 00005: val_loss improved from 0.35698 to 0.35043, saving model to weights_05_0.350.hdf5\n",
      "181s - loss: 0.3619 - acc: 0.8286 - val_loss: 0.3504 - val_acc: 0.8327\n",
      "Epoch 7/200\n"
     ]
    },
    {
     "name": "stderr",
     "output_type": "stream",
     "text": [
      "The installed widget Javascript is the wrong version.\n"
     ]
    },
    {
     "name": "stdout",
     "output_type": "stream",
     "text": [
      "Epoch 00006: val_loss improved from 0.35043 to 0.34299, saving model to weights_06_0.343.hdf5\n",
      "181s - loss: 0.3497 - acc: 0.8354 - val_loss: 0.3430 - val_acc: 0.8386\n",
      "Epoch 8/200\n"
     ]
    },
    {
     "name": "stderr",
     "output_type": "stream",
     "text": [
      "The installed widget Javascript is the wrong version.\n"
     ]
    },
    {
     "name": "stdout",
     "output_type": "stream",
     "text": [
      "Epoch 00007: val_loss improved from 0.34299 to 0.34183, saving model to weights_07_0.342.hdf5\n",
      "182s - loss: 0.3387 - acc: 0.8420 - val_loss: 0.3418 - val_acc: 0.8396\n",
      "Epoch 9/200\n"
     ]
    },
    {
     "name": "stderr",
     "output_type": "stream",
     "text": [
      "The installed widget Javascript is the wrong version.\n"
     ]
    },
    {
     "name": "stdout",
     "output_type": "stream",
     "text": [
      "Epoch 00008: val_loss improved from 0.34183 to 0.33413, saving model to weights_08_0.334.hdf5\n",
      "181s - loss: 0.3286 - acc: 0.8478 - val_loss: 0.3341 - val_acc: 0.8435\n",
      "Epoch 10/200\n"
     ]
    },
    {
     "name": "stderr",
     "output_type": "stream",
     "text": [
      "The installed widget Javascript is the wrong version.\n"
     ]
    },
    {
     "name": "stdout",
     "output_type": "stream",
     "text": [
      "Epoch 00009: val_loss improved from 0.33413 to 0.32946, saving model to weights_09_0.329.hdf5\n",
      "182s - loss: 0.3184 - acc: 0.8537 - val_loss: 0.3295 - val_acc: 0.8457\n",
      "Epoch 11/200\n"
     ]
    },
    {
     "name": "stderr",
     "output_type": "stream",
     "text": [
      "The installed widget Javascript is the wrong version.\n"
     ]
    },
    {
     "name": "stdout",
     "output_type": "stream",
     "text": [
      "Epoch 00010: val_loss improved from 0.32946 to 0.32770, saving model to weights_10_0.328.hdf5\n"
     ]
    },
    {
     "name": "stderr",
     "output_type": "stream",
     "text": [
      "The installed widget Javascript is the wrong version.\n"
     ]
    },
    {
     "name": "stdout",
     "output_type": "stream",
     "text": [
      "182s - loss: 0.3093 - acc: 0.8575 - val_loss: 0.3277 - val_acc: 0.8449\n",
      "Epoch 12/200\n",
      "Epoch 00011: val_loss improved from 0.32770 to 0.32155, saving model to weights_11_0.322.hdf5\n"
     ]
    },
    {
     "name": "stderr",
     "output_type": "stream",
     "text": [
      "The installed widget Javascript is the wrong version.\n"
     ]
    },
    {
     "name": "stdout",
     "output_type": "stream",
     "text": [
      "182s - loss: 0.3006 - acc: 0.8622 - val_loss: 0.3215 - val_acc: 0.8508\n",
      "Epoch 13/200\n",
      "Epoch 00012: val_loss did not improve\n",
      "181s - loss: 0.2913 - acc: 0.8674 - val_loss: 0.3220 - val_acc: 0.8503\n",
      "Epoch 14/200\n"
     ]
    },
    {
     "name": "stderr",
     "output_type": "stream",
     "text": [
      "The installed widget Javascript is the wrong version.\n"
     ]
    },
    {
     "name": "stdout",
     "output_type": "stream",
     "text": [
      "Epoch 00013: val_loss improved from 0.32155 to 0.31743, saving model to weights_13_0.317.hdf5\n",
      "182s - loss: 0.2822 - acc: 0.8725 - val_loss: 0.3174 - val_acc: 0.8542\n",
      "Epoch 15/200\n"
     ]
    },
    {
     "name": "stderr",
     "output_type": "stream",
     "text": [
      "The installed widget Javascript is the wrong version.\n"
     ]
    },
    {
     "name": "stdout",
     "output_type": "stream",
     "text": [
      "Epoch 00014: val_loss did not improve\n",
      "181s - loss: 0.2746 - acc: 0.8761 - val_loss: 0.3181 - val_acc: 0.8534\n",
      "Epoch 16/200\n"
     ]
    },
    {
     "name": "stderr",
     "output_type": "stream",
     "text": [
      "The installed widget Javascript is the wrong version.\n"
     ]
    },
    {
     "name": "stdout",
     "output_type": "stream",
     "text": [
      "Epoch 00015: val_loss improved from 0.31743 to 0.31238, saving model to weights_15_0.312.hdf5\n",
      "182s - loss: 0.2656 - acc: 0.8807 - val_loss: 0.3124 - val_acc: 0.8570\n",
      "Epoch 17/200\n"
     ]
    },
    {
     "name": "stderr",
     "output_type": "stream",
     "text": [
      "The installed widget Javascript is the wrong version.\n"
     ]
    },
    {
     "name": "stdout",
     "output_type": "stream",
     "text": [
      "Epoch 00016: val_loss did not improve\n",
      "181s - loss: 0.2590 - acc: 0.8842 - val_loss: 0.3130 - val_acc: 0.8571\n",
      "Epoch 18/200\n"
     ]
    },
    {
     "name": "stderr",
     "output_type": "stream",
     "text": [
      "The installed widget Javascript is the wrong version.\n"
     ]
    },
    {
     "name": "stdout",
     "output_type": "stream",
     "text": [
      "Epoch 00017: val_loss improved from 0.31238 to 0.31186, saving model to weights_17_0.312.hdf5\n",
      "182s - loss: 0.2511 - acc: 0.8879 - val_loss: 0.3119 - val_acc: 0.8588\n",
      "Epoch 19/200\n"
     ]
    },
    {
     "name": "stderr",
     "output_type": "stream",
     "text": [
      "The installed widget Javascript is the wrong version.\n"
     ]
    },
    {
     "name": "stdout",
     "output_type": "stream",
     "text": [
      "Epoch 00018: val_loss did not improve\n",
      "182s - loss: 0.2433 - acc: 0.8920 - val_loss: 0.3133 - val_acc: 0.8585\n",
      "Epoch 20/200\n"
     ]
    },
    {
     "name": "stderr",
     "output_type": "stream",
     "text": [
      "The installed widget Javascript is the wrong version.\n"
     ]
    },
    {
     "name": "stdout",
     "output_type": "stream",
     "text": [
      "Epoch 00019: val_loss did not improve\n",
      "181s - loss: 0.2375 - acc: 0.8954 - val_loss: 0.3132 - val_acc: 0.8607\n",
      "Epoch 21/200\n"
     ]
    },
    {
     "name": "stderr",
     "output_type": "stream",
     "text": [
      "The installed widget Javascript is the wrong version.\n"
     ]
    },
    {
     "name": "stdout",
     "output_type": "stream",
     "text": [
      "Epoch 00020: val_loss improved from 0.31186 to 0.30880, saving model to weights_20_0.309.hdf5\n",
      "182s - loss: 0.2310 - acc: 0.8985 - val_loss: 0.3088 - val_acc: 0.8637\n",
      "Epoch 22/200\n"
     ]
    },
    {
     "name": "stderr",
     "output_type": "stream",
     "text": [
      "The installed widget Javascript is the wrong version.\n"
     ]
    }
   ],
   "source": [
    "steps_per_epoch = y_train.shape[0]//batch_size\n",
    "validation_steps = y_validation.shape[0]//batch_size\n",
    "\n",
    "train_generator = batch_generator(x_train, y_train, batch_size, shuffle=False)\n",
    "validation_generator = batch_generator(x_validation, y_validation, batch_size, shuffle=False)\n",
    "\n",
    "model = get_nn_model(input_shape=input_shape)\n",
    "history = model.fit_generator(generator=train_generator,\n",
    "                              steps_per_epoch=steps_per_epoch,\n",
    "                              validation_data=validation_generator,\n",
    "                              validation_steps=validation_steps,\n",
    "                              epochs=200, verbose=2, callbacks=callbacks_list,\n",
    "                              max_q_size=5)"
   ]
  },
  {
   "cell_type": "markdown",
   "metadata": {},
   "source": [
    "# Ответ"
   ]
  },
  {
   "cell_type": "code",
   "execution_count": 35,
   "metadata": {},
   "outputs": [
    {
     "name": "stderr",
     "output_type": "stream",
     "text": [
      "/opt/lab/anaconda/envs/py35/lib/python3.5/site-packages/ipykernel/__main__.py:26: UserWarning: The `Merge` layer is deprecated and will be removed after 08/2017. Use instead layers from `keras.layers.merge`, e.g. `add`, `concatenate`, etc.\n"
     ]
    }
   ],
   "source": [
    "model = get_nn_model(input_shape=input_shape, path_to_hdf5='weights_20_0.308.hdf5', print_summary=False)"
   ]
  },
  {
   "cell_type": "code",
   "execution_count": 48,
   "metadata": {
    "scrolled": true
   },
   "outputs": [],
   "source": [
    "def predict(model, x):\n",
    "    generator = batch_generator(x, np.ones(x.shape[0]), batch_size, shuffle=False)\n",
    "    numbe_of_steps = x.shape[0]//batch_size\n",
    "    results = []\n",
    "    for i, batch_data in enumerate(generator):\n",
    "        x_batch, y_batch = batch_data\n",
    "        results.append(model.predict(x_batch))\n",
    "        if i >= numbe_of_steps:\n",
    "            break\n",
    "    return np.concatenate(results)[:, 0]"
   ]
  },
  {
   "cell_type": "code",
   "execution_count": 49,
   "metadata": {
    "collapsed": true
   },
   "outputs": [],
   "source": [
    "test_predictions = pd.DataFrame(index=range(x_test.shape[0]))\n",
    "test_predictions['is_duplicate'] = predict(model, x_test)\n",
    "test_predictions.to_csv('ans.csv', index_label='test_id') "
   ]
  },
  {
   "cell_type": "code",
   "execution_count": 53,
   "metadata": {
    "collapsed": true
   },
   "outputs": [],
   "source": [
    "test_predictions['is_duplicate'] = test_predictions['is_duplicate'].apply(f)\n",
    "test_predictions.to_csv('ans.csv', index_label='test_id')"
   ]
  },
  {
   "cell_type": "code",
   "execution_count": 51,
   "metadata": {
    "collapsed": true
   },
   "outputs": [],
   "source": [
    "a = 0.165 / 0.37\n",
    "b = (1 - 0.165) / (1 - 0.37)"
   ]
  },
  {
   "cell_type": "code",
   "execution_count": 52,
   "metadata": {
    "collapsed": true
   },
   "outputs": [],
   "source": [
    "def f(x):\n",
    "    return a * x / (a * x + b * (1 - x))"
   ]
  },
  {
   "cell_type": "code",
   "execution_count": null,
   "metadata": {
    "collapsed": true
   },
   "outputs": [],
   "source": []
  }
 ],
 "metadata": {
  "kernelspec": {
   "display_name": "Python [conda env:py35]",
   "language": "python",
   "name": "conda-env-py35-py"
  },
  "language_info": {
   "codemirror_mode": {
    "name": "ipython",
    "version": 3
   },
   "file_extension": ".py",
   "mimetype": "text/x-python",
   "name": "python",
   "nbconvert_exporter": "python",
   "pygments_lexer": "ipython3",
   "version": "3.5.2"
  }
 },
 "nbformat": 4,
 "nbformat_minor": 2
}
